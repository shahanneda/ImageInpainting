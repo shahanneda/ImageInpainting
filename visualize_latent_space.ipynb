{
 "cells": [
  {
   "cell_type": "code",
   "execution_count": 2,
   "metadata": {},
   "outputs": [],
   "source": [
    "import torch\n",
    "import torch\n",
    "import torchvision.transforms as T\n",
    "import torchvision\n",
    "from torchvision.datasets import ImageFolder\n",
    "from torch.utils.data import DataLoader\n",
    "import matplotlib.pyplot as plt\n",
    "import torchvision.models as models\n",
    "import torch.nn.functional as F\n",
    "import torch.nn as nn\n",
    "from torch import tensor\n",
    "IMAGE_SIZE = 128\n",
    "CENTER_SIZE = 64\n",
    "BATCH_SIZE = 1500"
   ]
  },
  {
   "cell_type": "code",
   "execution_count": 34,
   "metadata": {},
   "outputs": [],
   "source": [
    "import math\n",
    "def display_image(img):\n",
    "        with torch.no_grad():\n",
    "                img = img.permute((1, 2, 0))\n",
    "                plt.imshow(img.cpu().numpy())\n",
    "                plt.show()\n",
    "\n",
    "def display_images(imgs, images_per_row=2, title=None):\n",
    "        with torch.no_grad():\n",
    "                rows = math.ceil(len(imgs) / images_per_row)\n",
    "                fig = plt.figure(figsize=(images_per_row*2, rows*2))\n",
    "                if title:\n",
    "                        fig.suptitle(title, fontsize=10)\n",
    "                for i, img in enumerate(imgs):\n",
    "                        plt.subplot(rows, images_per_row, i+1)\n",
    "                        plt.axis('off')\n",
    "                        plt.tight_layout()\n",
    "                        img = img.permute((1, 2, 0))\n",
    "                        plt.imshow(img.cpu().numpy())\n",
    "                plt.show()\n",
    "\n",
    "def get_center_of_image(img, size=64):\n",
    "        return T.CenterCrop((size, size))(img)\n",
    "\n",
    "def get_img_without_center(img, size=64):\n",
    "        left = (IMAGE_SIZE - CENTER_SIZE) // 2\n",
    "        right = (IMAGE_SIZE - CENTER_SIZE) // 2 + CENTER_SIZE\n",
    "        if(len(img.shape) == 3):\n",
    "                img[ :, left:right, left:right ] = 0\n",
    "        elif(len(img.shape) == 4):\n",
    "                img[:, :, left:right, left:right ] = 0\n",
    "        else:\n",
    "                raise RuntimeError(\"Wrong shape to get_img_without_center!\")\n",
    "                \n",
    "        return img\n",
    "\n",
    "class CenterImageRemoval(object):\n",
    "    def __init__(self, image_size, center_size):\n",
    "        self.image_size = image_size\n",
    "        self.center_size = center_size\n",
    "        \n",
    "    def __call__(self, img):\n",
    "        left = (self.image_size - self.center_size) // 2\n",
    "        right = (self.image_size - self.center_size) // 2 + self.center_size\n",
    "\n",
    "        if(len(img.shape) == 3):\n",
    "                assert img.shape[1] == img.shape[2] == self.image_size\n",
    "                img[ :, left:right, left:right ] = 0\n",
    "        elif(len(img.shape) == 4):\n",
    "                assert img.shape[2] == img.shape[3] == self.image_size\n",
    "                img[:, :, left:right, left:right ] = 0\n",
    "\n",
    "        return img\n",
    "\n",
    "class AddImageCenter(object):\n",
    "    def __init__(self, image_size, center_size):\n",
    "        self.image_size = image_size\n",
    "        self.center_size = center_size\n",
    "        \n",
    "    def __call__(self, img, center):\n",
    "        assert center.shape[1] == center.shape[2] == self.center_size\n",
    "\n",
    "        left = (self.image_size - self.center_size) // 2\n",
    "        right = (self.image_size - self.center_size) // 2 + self.center_size\n",
    "\n",
    "        if(len(img.shape) == 3):\n",
    "                assert img.shape[1] == img.shape[2] == self.image_size\n",
    "                img[ :, left:right, left:right ] = center\n",
    "        elif(len(img.shape) == 4):\n",
    "                assert img.shape[2] == img.shape[3] == self.image_size\n",
    "                img[:, :, left:right, left:right ] = center\n",
    "        return img\n",
    "\n",
    "class JointRandomResizeCrop(object):\n",
    "    def __init__(self, size: int, minimum_scale, maximum_scale):\n",
    "        \"\"\"\n",
    "        params:\n",
    "            size (int) : size of the center crop\n",
    "        \"\"\"\n",
    "        self.size = size\n",
    "        self.min_scale = minimum_scale\n",
    "        self.max_scale = maximum_scale\n",
    "        \n",
    "    def __call__(self, img, target):\n",
    "        scale = (self.max_scale - self.min_scale)*random.random() + self.min_scale\n",
    "        _, height, width = img.shape\n",
    "        new_h, new_w = int(height*scale), int(width*scale)\n",
    "\n",
    "        target = target.reshape((1, height, width))\n",
    "        resized_img = T.functional.resize(img,  [new_h, new_w])\n",
    "        resized_target = T.functional.resize(target, [new_h, new_w])\n",
    "        crop_size = min(self.size, new_h, new_w)\n",
    "        top = random.randint(0, new_h - crop_size)\n",
    "        left = random.randint(0, new_w - crop_size)\n",
    "        resized_img = T.functional.crop(resized_img, top, left, crop_size, crop_size)\n",
    "        resized_target = T.functional.crop(resized_target, top, left, crop_size, crop_size)\n",
    "\n",
    "        resized_img = T.functional.resize(resized_img, size=(self.size, self.size))\n",
    "        resized_target = T.functional.resize(resized_target, size=(self.size, self.size))\n",
    "        resized_target = resized_target.reshape((self.size, self.size))\n",
    "\n",
    "        return (resized_img, resized_target)\n",
    "    \n",
    "def save_model(encoder, decoder, epoch, optimizer, path):\n",
    "\tstate = {\n",
    "    'epoch': epoch,\n",
    "    'encoder': encoder.state_dict(),\n",
    "    'decoder': decoder.state_dict(),\n",
    "    'optimizer': optimizer.state_dict(),\n",
    "\t}\n",
    "\ttorch.save(state, path)\n",
    "\n",
    "\n",
    "def load_model(encoder, decoder, optimizer, path):\n",
    "\tstate = torch.load(path)\n",
    "\tencoder.load_state_dict(state[\"encoder\"])\n",
    "\tdecoder.load_state_dict(state[\"decoder\"])\n",
    "\toptimizer.load_state_dict(state[\"optimizer\"])\n",
    "\treturn state[\"epoch\"]\n",
    "device = torch.device(\"cuda\" if torch.cuda.is_available() else \"cpu\")\n",
    "\n",
    "train_tranforms = T.Compose([\n",
    "    T.Resize(size=(IMAGE_SIZE, IMAGE_SIZE)),\n",
    "    T.RandomResizedCrop(size=(IMAGE_SIZE, IMAGE_SIZE)),\n",
    "    T.ToTensor(),\n",
    "    T.RandomHorizontalFlip(p=0.5),\n",
    "    T.ConvertImageDtype(torch.float32),\n",
    "])\n",
    "\n",
    "val_tranforms = T.Compose([\n",
    "    T.Resize(size=(IMAGE_SIZE, IMAGE_SIZE)),\n",
    "    T.ToTensor(),\n",
    "    T.ConvertImageDtype(torch.float32),\n",
    "])\n",
    "\n",
    "# extra transformation not applied to ground truth images\n",
    "non_gt_extra_transforms = T.Compose([\n",
    "    CenterImageRemoval(IMAGE_SIZE, CENTER_SIZE),\n",
    "])\n",
    "\n",
    "sanity_transforms = T.Compose([\n",
    "    T.Resize(size=(IMAGE_SIZE, IMAGE_SIZE)),\n",
    "    T.CenterCrop(size=(IMAGE_SIZE, IMAGE_SIZE)),\n",
    "    T.ToTensor(),\n",
    "    T.ConvertImageDtype(torch.float32),\n",
    "])\n",
    "from torchvision.datasets import ImageFolder\n",
    "from torch.utils.data import Dataset\n",
    "from torchvision import transforms\n",
    "import os\n",
    "from PIL import Image\n",
    "import numpy as np\n",
    "from IPython.display import clear_output\n",
    "\n",
    "class CustomDataSet(Dataset):\n",
    "    def __init__(self, root_dir, classes, transform=None, non_gt_extra_transforms=None, training_split=0.8, is_train=True):\n",
    "        self.root_dir = root_dir\n",
    "        self.transform = transform\n",
    "        self.non_gt_extra_transforms = non_gt_extra_transforms\n",
    "\n",
    "        dirs = np.array(sorted(os.listdir(root_dir)))[classes]\n",
    "        # print(dirs.shape)\n",
    "        # train_split = int(dirs.shape[0]*training_split)\n",
    "        # dirs = dirs[0:train_split]\n",
    "        # print(dirs.shape)\n",
    "\n",
    "        self.images = []\n",
    "        self.cache = {}\n",
    "\n",
    "        self.is_train = is_train\n",
    "        for i, dir in enumerate(dirs):\n",
    "            imgs = sorted(os.listdir(os.path.join(self.root_dir, dir)))\n",
    "            train_split = int(len(imgs)*training_split)\n",
    "            if is_train:\n",
    "                imgs = imgs[0:train_split]\n",
    "            else:\n",
    "                imgs = imgs[train_split:]\n",
    "            for img in imgs:\n",
    "                self.images.append((os.path.join(self.root_dir, dir, img), classes[i]))\n",
    "    \n",
    "\n",
    "    def __len__(self):\n",
    "        return len(self.images)\n",
    "\n",
    "    def __getitem__(self, idx):\n",
    "        img_name, class_label = self.images[idx]\n",
    "        image = None\n",
    "\n",
    "        if img_name not in self.cache:\n",
    "            self.cache[img_name] = Image.open(img_name).convert('RGB')\n",
    "        image = self.cache[img_name]\n",
    "\n",
    "\n",
    "        if self.transform:\n",
    "            transformed_image = self.transform(image)\n",
    "        else:\n",
    "            transformed_image = None\n",
    "\n",
    "        gt_image = torch.clone(transformed_image)\n",
    "\n",
    "        if non_gt_extra_transforms:\n",
    "            transformed_image = non_gt_extra_transforms(transformed_image)\n",
    "\n",
    "        return transformed_image, gt_image, class_label\n",
    "\n",
    "\n",
    "DATASET_PATH = '/pub2/imagenet/ILSVRC/Data/CLS-LOC/train'\n",
    "# Due to the way the dataset is strucutred, I can't use the offical validation images provided\n",
    "# Therefore, I'm splitting the provided training_split from the dataset, 90% for training, and 10% for validation\n",
    "\n",
    "train_dataset = CustomDataSet(root_dir=DATASET_PATH, \n",
    "                                      transform=train_tranforms, \n",
    "                                      non_gt_extra_transforms=non_gt_extra_transforms,\n",
    "                                      classes=classes,\n",
    "                                      is_train=True,\n",
    "                                      training_split=0.9\n",
    "                                      )\n",
    "\n",
    "validation_dataset = CustomDataSet(root_dir=DATASET_PATH, \n",
    "                                      transform=val_tranforms, \n",
    "                                      non_gt_extra_transforms=non_gt_extra_transforms,\n",
    "                                      classes=classes,\n",
    "                                      is_train=False\n",
    "                                      )\n",
    "\n",
    "# Like the training dataset but only has 1 image\n",
    "sanity_dataset = CustomDataSet(root_dir=DATASET_PATH, \n",
    "                                      transform=sanity_transforms, \n",
    "                                      non_gt_extra_transforms=non_gt_extra_transforms,\n",
    "                                      classes=classes,\n",
    "                                      is_train=True,\n",
    "                                      training_split=0.9\n",
    "                                      )\n",
    "sanity_dataset = torch.utils.data.Subset(sanity_dataset, [1])\n"
   ]
  },
  {
   "cell_type": "code",
   "execution_count": 36,
   "metadata": {},
   "outputs": [],
   "source": [
    "train_loader = DataLoader(train_dataset, batch_size=BATCH_SIZE, shuffle=True)\n",
    "val_loader = DataLoader(validation_dataset, batch_size=BATCH_SIZE, shuffle=True)\n",
    "sanity_loader = DataLoader(sanity_dataset, batch_size=1, shuffle=True)"
   ]
  },
  {
   "cell_type": "code",
   "execution_count": 15,
   "metadata": {},
   "outputs": [],
   "source": [
    "from sklearn.decomposition import PCA\n",
    "import matplotlib.pyplot as plt"
   ]
  },
  {
   "cell_type": "code",
   "execution_count": 12,
   "metadata": {},
   "outputs": [],
   "source": [
    "data = torch.rand((100, 40000))\n",
    "data = data.numpy()"
   ]
  },
  {
   "cell_type": "code",
   "execution_count": 86,
   "metadata": {},
   "outputs": [],
   "source": [
    "def get_pca(data):\n",
    "\tdata = data.numpy()\n",
    "\tpca = PCA(n_components=2)\n",
    "\tdata_2d = pca.fit_transform(data)\n",
    "\treturn data_2d\n",
    "\n"
   ]
  },
  {
   "cell_type": "code",
   "execution_count": null,
   "metadata": {},
   "outputs": [],
   "source": [
    "import torchvision.models as models\n",
    "resnet = models.resnet50(weights='ResNet50_Weights.DEFAULT')\n",
    "resnet.eval()"
   ]
  },
  {
   "cell_type": "code",
   "execution_count": 109,
   "metadata": {},
   "outputs": [],
   "source": [
    "img_batch, img_batch_gt, image_batch_classes = next(iter(val_loader))"
   ]
  },
  {
   "cell_type": "code",
   "execution_count": 43,
   "metadata": {},
   "outputs": [
    {
     "data": {
      "text/plain": [
       "torch.Size([520, 3, 128, 128])"
      ]
     },
     "execution_count": 43,
     "metadata": {},
     "output_type": "execute_result"
    }
   ],
   "source": [
    "img_batch.shape"
   ]
  },
  {
   "cell_type": "code",
   "execution_count": 115,
   "metadata": {},
   "outputs": [],
   "source": [
    "class ResNetEncoder(nn.Module):\n",
    "    def __init__(self):\n",
    "        super(ResNetEncoder, self).__init__()\n",
    "        self.resnet = models.resnet50(weights='ResNet50_Weights.DEFAULT')\n",
    "\n",
    "    def forward(self, inp):\n",
    "        inp = self.resnet.conv1(inp)\n",
    "        inp = self.resnet.bn1(inp)\n",
    "        inp = self.resnet.relu(inp)\n",
    "        inp = self.resnet.maxpool(inp)\n",
    "        inp = self.resnet.layer1(inp)\n",
    "        inp = self.resnet.layer2(inp)\n",
    "        inp = self.resnet.layer3(inp)\n",
    "        inp = self.resnet.layer4(inp)\n",
    "        inp = self.resnet.avgpool(inp)\n",
    "        inp = inp.reshape((-1, 2048))\n",
    "        # print(\"fully encoded shape is\", inp.shape)\n",
    "        return inp"
   ]
  },
  {
   "cell_type": "code",
   "execution_count": 116,
   "metadata": {},
   "outputs": [],
   "source": [
    "resnet_encoder = ResNetEncoder()\n"
   ]
  },
  {
   "cell_type": "code",
   "execution_count": 122,
   "metadata": {},
   "outputs": [
    {
     "name": "stdout",
     "output_type": "stream",
     "text": [
      "torch.Size([520, 3, 128, 128])\n"
     ]
    }
   ],
   "source": [
    "print(img_batch_gt.shape)"
   ]
  },
  {
   "cell_type": "code",
   "execution_count": 131,
   "metadata": {},
   "outputs": [],
   "source": [
    "tennis_images = image_batch_classes == 852\n",
    "tiling_images = image_batch_classes == 858"
   ]
  },
  {
   "cell_type": "code",
   "execution_count": 119,
   "metadata": {},
   "outputs": [
    {
     "name": "stdout",
     "output_type": "stream",
     "text": [
      "torch.Size([260, 3, 128, 128])\n",
      "torch.Size([260, 3, 128, 128])\n"
     ]
    }
   ],
   "source": [
    "print(tennis_images.shape)\n",
    "print(tiling.shape)"
   ]
  },
  {
   "cell_type": "code",
   "execution_count": 126,
   "metadata": {},
   "outputs": [],
   "source": [
    "resnet_out = resnet_encoder(img_batch_gt).detach()"
   ]
  },
  {
   "cell_type": "code",
   "execution_count": 127,
   "metadata": {},
   "outputs": [],
   "source": [
    "resnet_pca = get_pca(resnet_out)"
   ]
  },
  {
   "cell_type": "code",
   "execution_count": 142,
   "metadata": {},
   "outputs": [
    {
     "data": {
      "image/png": "[encoded data removed]",
      "text/plain": [
       "<Figure size 1000x800 with 1 Axes>"
      ]
     },
     "metadata": {},
     "output_type": "display_data"
    }
   ],
   "source": [
    "\n",
    "plt.figure(figsize=(10, 8))\n",
    "plt.scatter(resnet_pca[tennis_images, 0], resnet_pca[tennis_images, 1], color=\"red\", label=\"Tennis Images\")\n",
    "plt.scatter(resnet_pca[tiling_images, 0], resnet_pca[tiling_images, 1], color=\"blue\", label=\"Roof Images\")\n",
    "plt.legend()\n",
    "plt.title(\"PCA of ResNet Embedding\")\n",
    "plt.xlabel(\"Principal Component 1\")\n",
    "plt.ylabel(\"Principal Component 2\")\n",
    "plt.grid(True)\n",
    "plt.show()"
   ]
  }
 ],
 "metadata": {
  "kernelspec": {
   "display_name": "cs484-kernal-3",
   "language": "python",
   "name": "cs484-kernal-3"
  }
 },
 "nbformat": 4,
 "nbformat_minor": 2
}
