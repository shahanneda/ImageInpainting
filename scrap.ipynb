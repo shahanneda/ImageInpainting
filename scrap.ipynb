{
 "cells": [
  {
   "cell_type": "code",
   "execution_count": null,
   "metadata": {},
   "outputs": [],
   "source": [
    "proc_train_loss_history = []\n",
    "proc_val_loss_history = []\n",
    "\n",
    "offset = 0\n",
    "for i, val in train_loss_history:\n",
    "\tproc_train_loss_history.append([i + offset, val])\n",
    "\tif i == 499:\n",
    "\t\toffset += 500\n",
    "\n",
    "offset = 0\n",
    "for i, val in val_loss_history:\n",
    "\tproc_val_loss_history.append([i + offset, val])\n",
    "\tif i == 498:\n",
    "\t\toffset += 500"
   ]
  }
 ],
 "metadata": {
  "language_info": {
   "name": "python"
  }
 },
 "nbformat": 4,
 "nbformat_minor": 2
}
